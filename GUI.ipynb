{
 "cells": [
  {
   "cell_type": "markdown",
   "id": "b6cd6a95",
   "metadata": {},
   "source": [
    "# The model recognizes whether a car is current, futuristic, or toy"
   ]
  },
  {
   "cell_type": "code",
   "execution_count": 2,
   "id": "fcf3614b",
   "metadata": {},
   "outputs": [],
   "source": [
    "from fastai.vision.all import *\n",
    "from fastai.vision.widgets import *"
   ]
  },
  {
   "cell_type": "code",
   "execution_count": 4,
   "id": "5d8187c2",
   "metadata": {},
   "outputs": [],
   "source": [
    "#Creating variable with the Path object\n",
    "path = Path()\n",
    "#Checking the file exists\n",
    "path.ls(file_exts='.pkl')\n",
    "#Importing the interference model that will be used to obtain predictions\n",
    "learn_inf = load_learner(path/'export.pkl')"
   ]
  },
  {
   "cell_type": "code",
   "execution_count": 5,
   "id": "7bf2d748",
   "metadata": {},
   "outputs": [],
   "source": [
    "##Starting the widgets\n",
    "#button of classify \n",
    "btn_run = widgets.Button(description='Classify')\n",
    "#button of upload\n",
    "btn_upload = widgets.FileUpload()\n",
    "#label of prediction\n",
    "lbl_pred = widgets.Label()\n",
    "\n",
    "#widget output\n",
    "out_pl = widgets.Output()"
   ]
  },
  {
   "cell_type": "code",
   "execution_count": 6,
   "id": "7ac19d7b",
   "metadata": {},
   "outputs": [],
   "source": [
    "##Click event handler\n",
    "def on_click_classify(change):\n",
    "    #getting an image as per the upload\n",
    "    img = PILImage.create(btn_upload.data[-1])\n",
    "    #clear output\n",
    "    out_pl.clear_output()\n",
    "    #widget output\n",
    "    with out_pl: display(img.to_thumb(128,128))\n",
    "    #get the forecasts\n",
    "    pred,pred_idx,probs = learn_inf.predict(img)\n",
    "    #lebel with a prediction and probability\n",
    "    lbl_pred.value = f'Prediction: {pred}; Probability: {probs[pred_idx]:.04f}'\n",
    "\n",
    "##When the sort button is cycled, the function is called\n",
    "btn_run.on_click(on_click_classify)"
   ]
  },
  {
   "cell_type": "code",
   "execution_count": 7,
   "id": "6bf558e6",
   "metadata": {},
   "outputs": [
    {
     "data": {
      "application/vnd.jupyter.widget-view+json": {
       "model_id": "f91116e80e114ae588f8232d3f447e15",
       "version_major": 2,
       "version_minor": 0
      },
      "text/plain": [
       "VBox(children=(Label(value='Select your car!'), FileUpload(value={}, description='Upload'), Button(description…"
      ]
     },
     "metadata": {},
     "output_type": "display_data"
    }
   ],
   "source": [
    "##Display box vertical with all necessary information\n",
    "VBox([widgets.Label('Select your car!'), btn_upload, btn_run, out_pl, lbl_pred])"
   ]
  }
 ],
 "metadata": {
  "kernelspec": {
   "display_name": "fastai",
   "language": "python",
   "name": "fastai"
  },
  "language_info": {
   "codemirror_mode": {
    "name": "ipython",
    "version": 3
   },
   "file_extension": ".py",
   "mimetype": "text/x-python",
   "name": "python",
   "nbconvert_exporter": "python",
   "pygments_lexer": "ipython3",
   "version": "3.9.12"
  }
 },
 "nbformat": 4,
 "nbformat_minor": 5
}
